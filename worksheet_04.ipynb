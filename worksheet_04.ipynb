{
 "cells": [
  {
   "attachments": {},
   "cell_type": "markdown",
   "metadata": {},
   "source": [
    "# Worksheet 04\n",
    "\n",
    "Name: Mahdi Khemakhem\n",
    "UID: U18251472\n",
    "\n",
    "### Topics\n",
    "\n",
    "- Distance & Similarity"
   ]
  },
  {
   "cell_type": "markdown",
   "metadata": {},
   "source": [
    "### Distance & Similarity\n",
    "\n",
    "#### Part 1\n",
    "\n",
    "a) In the minkowski distance, describe what the parameters p and d are."
   ]
  },
  {
   "cell_type": "markdown",
   "metadata": {},
   "source": [
    "p: parameter to which we raise the absolute value for the difference between xi and yi (when p is 2 we get euclidian, with p = 1 we get the manhattan distance)\n",
    "d: number of dimensions"
   ]
  },
  {
   "cell_type": "markdown",
   "metadata": {},
   "source": [
    "b) In your own words describe the difference between the Euclidean distance and the Manhattan distance."
   ]
  },
  {
   "cell_type": "markdown",
   "metadata": {},
   "source": [
    "Euclidian is the Minkowski distance with p=2 as a parameter, while the Manhattan distance uses p=1."
   ]
  },
  {
   "attachments": {},
   "cell_type": "markdown",
   "metadata": {},
   "source": [
    "Consider A = (0, 0) and B = (1, 1). When:\n",
    "\n",
    "- p = 1, d(A, B) = 2\n",
    "- p = 2, d(A, B) = $\\sqrt{2} = 1.41$\n",
    "- p = 3, d(A, B) = $2^{1/3} = 1.26$\n",
    "- p = 4, d(A, B) = $2^{1/4} = 1.19$\n",
    "\n",
    "c) Describe what you think distance would look like when p is very large."
   ]
  },
  {
   "cell_type": "markdown",
   "metadata": {},
   "source": [
    "It would tend towards 1."
   ]
  },
  {
   "cell_type": "markdown",
   "metadata": {},
   "source": [
    "d) Is the minkowski distance still a distance function when p < 1? Expain why / why not."
   ]
  },
  {
   "cell_type": "markdown",
   "metadata": {},
   "source": [
    "No, because it violates the triangle inequality, as it would amplify the distance of the shortest edge in certain cases, if that shortest distance was actually larger than the other distance componenets."
   ]
  },
  {
   "cell_type": "markdown",
   "metadata": {},
   "source": [
    "e) when would you use cosine similarity over the euclidan distance?"
   ]
  },
  {
   "cell_type": "markdown",
   "metadata": {},
   "source": [
    "When direction matters more than the magnitude of the distance"
   ]
  },
  {
   "cell_type": "markdown",
   "metadata": {},
   "source": [
    "f) what does the jaccard distance account for that the manhattan distance doesn't?"
   ]
  },
  {
   "cell_type": "markdown",
   "metadata": {},
   "source": [
    "To account for the size of the intersection of two sets. In essence the ratio of non-similar words (in the jaccard dissimilarity) to the total number of words."
   ]
  },
  {
   "attachments": {},
   "cell_type": "markdown",
   "metadata": {},
   "source": [
    "#### Part 2\n",
    "\n",
    "Consider the following two sentences:"
   ]
  },
  {
   "cell_type": "code",
   "execution_count": 1,
   "metadata": {},
   "outputs": [],
   "source": [
    "s1 = \"hello my name is Alice\"  \n",
    "s2 = \"hello my name is Bob\""
   ]
  },
  {
   "cell_type": "markdown",
   "metadata": {},
   "source": [
    "using the union of words from both sentences, we can represent each sentence as a vector. Each element of the vector represents the presence or absence of the word at that index.\n",
    "\n",
    "In this example, the union of words is (\"hello\", \"my\", \"name\", \"is\", \"Alice\", \"Bob\") so we can represent the above sentences as such:"
   ]
  },
  {
   "cell_type": "code",
   "execution_count": 2,
   "metadata": {},
   "outputs": [],
   "source": [
    "v1 = [1,    1, 1,   1, 1,    0]\n",
    "#     hello my name is Alice\n",
    "v2 = [1,    1, 1,   1, 0, 1]\n",
    "#     hello my name is    Bob"
   ]
  },
  {
   "attachments": {},
   "cell_type": "markdown",
   "metadata": {},
   "source": [
    "Programmatically, we can do the following:"
   ]
  },
  {
   "cell_type": "code",
   "execution_count": 4,
   "metadata": {},
   "outputs": [
    {
     "name": "stdout",
     "output_type": "stream",
     "text": [
      "['Bob', 'hello', 'my', 'name', 'Alice', 'is']\n",
      "[0, 1, 1, 1, 1, 1]\n"
     ]
    }
   ],
   "source": [
    "corpus = [s1, s2]\n",
    "all_words = list(set([item for x in corpus for item in x.split()]))\n",
    "print(all_words)\n",
    "v1 = [1 if x in s1 else 0 for x in all_words]\n",
    "print(v1)"
   ]
  },
  {
   "cell_type": "markdown",
   "metadata": {},
   "source": [
    "Let's add a new sentence to our corpus:"
   ]
  },
  {
   "cell_type": "code",
   "execution_count": 6,
   "metadata": {},
   "outputs": [],
   "source": [
    "s3 = \"hi my name is Claude\"\n",
    "corpus.append(s3)"
   ]
  },
  {
   "cell_type": "markdown",
   "metadata": {},
   "source": [
    "a) What is the new union of words used to represent s1, s2, and s3?"
   ]
  },
  {
   "cell_type": "code",
   "execution_count": 8,
   "metadata": {},
   "outputs": [
    {
     "name": "stdout",
     "output_type": "stream",
     "text": [
      "['Bob', 'hello', 'my', 'hi', 'Claude', 'name', 'Alice', 'is']\n"
     ]
    }
   ],
   "source": [
    "all_words = list(set([item for x in corpus for item in x.split()]))\n",
    "print(all_words)"
   ]
  },
  {
   "attachments": {},
   "cell_type": "markdown",
   "metadata": {},
   "source": [
    "b) Represent s1, s2, and s3 as vectors as above, using this new set of words."
   ]
  },
  {
   "cell_type": "code",
   "execution_count": 10,
   "metadata": {},
   "outputs": [
    {
     "name": "stdout",
     "output_type": "stream",
     "text": [
      "['Bob', 'hello', 'my', 'hi', 'Claude', 'name', 'Alice', 'is']\n",
      "hello my name is Alice\n",
      "[0, 1, 1, 0, 0, 1, 1, 1]\n",
      "hello my name is Bob\n",
      "[1, 1, 1, 0, 0, 1, 0, 1]\n",
      "hi my name is Claude\n",
      "[0, 0, 1, 1, 1, 1, 0, 1]\n"
     ]
    }
   ],
   "source": [
    "print(all_words)\n",
    "v1 = [1 if x in s1 else 0 for x in all_words]\n",
    "print(s1)\n",
    "print(v1)\n",
    "v2 = [1 if x in s2 else 0 for x in all_words]\n",
    "print(s2)\n",
    "print(v2)\n",
    "v3 = [1 if x in s3 else 0 for x in all_words]\n",
    "print(s3)\n",
    "print(v3)"
   ]
  },
  {
   "cell_type": "markdown",
   "metadata": {},
   "source": [
    "c) Write a function that computes the manhattan distance between two vectors. Which pair of vectors are the most similar under that distance function?"
   ]
  },
  {
   "cell_type": "code",
   "execution_count": 14,
   "metadata": {},
   "outputs": [
    {
     "name": "stdout",
     "output_type": "stream",
     "text": [
      "2\n",
      "4\n",
      "4\n"
     ]
    }
   ],
   "source": [
    "def minkowski_distance(x, y, p):\n",
    "    if p<1:\n",
    "        raise ValueError(\"p must be greater than 1\")\n",
    "    if len(x) != len(y):\n",
    "        raise ValueError(\"x and y must be in the same dimensional space\")\n",
    "    res = 0\n",
    "    for i in range(len(x)):\n",
    "        res += abs(x[i] - y[i])**p\n",
    "    return res**(1/p)\n",
    "\n",
    "def manhattan_distance_1(x,y):\n",
    "    return minkowski_distance(x,y,1)\n",
    "\n",
    "def manhattan_distance(v1, v2):\n",
    "    abs_diff_sum = 0\n",
    "    for i in range(len(v1)):\n",
    "        abs_diff_sum += abs(v1[i] - v2[i])\n",
    "    return abs_diff_sum\n",
    "\n",
    "print(manhattan_distance(v1, v2))\n",
    "print(manhattan_distance(v1, v3))\n",
    "print(manhattan_distance(v2, v3))"
   ]
  },
  {
   "cell_type": "markdown",
   "metadata": {},
   "source": [
    "Sentences s1, and s2 as their distance was 2 compared to 4 and 4."
   ]
  },
  {
   "cell_type": "markdown",
   "metadata": {},
   "source": [
    "d) Create a matrix of all these vectors (row major) and add the following sentences in vector form:\n",
    "\n",
    "- \"hi Alice\"\n",
    "- \"hello Claude\"\n",
    "- \"Bob my name is Claude\"\n",
    "- \"hi Claude my name is Alice\"\n",
    "- \"hello Bob\""
   ]
  },
  {
   "cell_type": "code",
   "execution_count": 16,
   "metadata": {},
   "outputs": [
    {
     "name": "stdout",
     "output_type": "stream",
     "text": [
      "{'Bob', 'hello', 'is', 'my', 'hi', 'Claude', 'Alice', 'name'}\n",
      "['Bob', 'hello', 'my', 'hi', 'Claude', 'name', 'Alice', 'is']\n",
      "[0, 0, 0, 1, 0, 0, 1, 0]\n",
      "[0, 1, 0, 0, 1, 0, 0, 0]\n",
      "[1, 0, 1, 0, 1, 1, 0, 1]\n",
      "[0, 0, 1, 1, 1, 1, 1, 1]\n",
      "[1, 1, 0, 0, 0, 0, 0, 0]\n"
     ]
    }
   ],
   "source": [
    "def matrix_creator(s, corpus):\n",
    "    return [1 if x in s else 0 for x in corpus]\n",
    "\n",
    "sentence_list = [\n",
    "\"hi Alice\",\n",
    "\"hello Claude\",\n",
    "\"Bob my name is Claude\",\n",
    "\"hi Claude my name is Alice\",\n",
    "\"hello Bob\"\n",
    "]\n",
    "\n",
    "exercise_specific_corpus = set([item for x in sentence_list for item in x.split()])\n",
    "print(exercise_specific_corpus)\n",
    "\n",
    "# Corpus did change, see below, hence why i continued using all_words\n",
    "print(all_words)\n",
    "\n",
    "\n",
    "matrix_list = []\n",
    "for s in sentence_list:\n",
    "    row = matrix_creator(s, all_words)\n",
    "    print(row)\n",
    "    matrix_list.append(row)"
   ]
  },
  {
   "cell_type": "code",
   "execution_count": 17,
   "metadata": {},
   "outputs": [
    {
     "name": "stdout",
     "output_type": "stream",
     "text": [
      "[[0, 0, 0, 1, 0, 0, 1, 0], [0, 1, 0, 0, 1, 0, 0, 0], [1, 0, 1, 0, 1, 1, 0, 1], [0, 0, 1, 1, 1, 1, 1, 1], [1, 1, 0, 0, 0, 0, 0, 0]]\n"
     ]
    }
   ],
   "source": [
    "print(matrix_list)"
   ]
  },
  {
   "cell_type": "markdown",
   "metadata": {},
   "source": [
    "e) How many rows and columns does this matrix have?"
   ]
  },
  {
   "cell_type": "code",
   "execution_count": 18,
   "metadata": {},
   "outputs": [
    {
     "name": "stdout",
     "output_type": "stream",
     "text": [
      "Rows:  5\n",
      "Columns:  8\n"
     ]
    }
   ],
   "source": [
    "rows = len(matrix_list)\n",
    "columns = len(matrix_list[0])\n",
    "\n",
    "print(\"Rows: \", rows)\n",
    "print(\"Columns: \", columns)"
   ]
  },
  {
   "attachments": {},
   "cell_type": "markdown",
   "metadata": {},
   "source": [
    "f) When using the Manhattan distance, which two sentences are the most similar?"
   ]
  },
  {
   "cell_type": "code",
   "execution_count": 23,
   "metadata": {},
   "outputs": [
    {
     "name": "stdout",
     "output_type": "stream",
     "text": [
      "Manhattan distance between sentence 1 and sentence 2 is 4\n",
      "Manhattan distance between sentence 1 and sentence 3 is 7\n",
      "Manhattan distance between sentence 1 and sentence 4 is 4\n",
      "Manhattan distance between sentence 1 and sentence 5 is 4\n",
      "Manhattan distance between sentence 2 and sentence 3 is 5\n",
      "Manhattan distance between sentence 2 and sentence 4 is 6\n",
      "Manhattan distance between sentence 2 and sentence 5 is 2\n",
      "Manhattan distance between sentence 3 and sentence 4 is 3\n",
      "Manhattan distance between sentence 3 and sentence 5 is 5\n",
      "Manhattan distance between sentence 4 and sentence 5 is 8\n",
      "Minimum distance is 2 between sentence 2 and sentence 5\n"
     ]
    }
   ],
   "source": [
    "distances = []\n",
    "\n",
    "i = 0\n",
    "while i < rows-1:\n",
    "    j = i+1\n",
    "    while j < rows:\n",
    "        print(\"Manhattan distance between sentence\", i+1, \"and sentence\", j+1, \"is\", manhattan_distance(matrix_list[i], matrix_list[j]))\n",
    "        distances += [(i+1, j+1, manhattan_distance(matrix_list[i], matrix_list[j]))]\n",
    "        j += 1\n",
    "    i+=1\n",
    "\n",
    "# get minimum distance\n",
    "min_dist = min(distances, key=lambda x: x[2])\n",
    "print(\"Minimum distance is\", min_dist[2], \"between sentence\", min_dist[0], \"and sentence\", min_dist[1])"
   ]
  },
  {
   "cell_type": "markdown",
   "metadata": {},
   "source": [
    "See above"
   ]
  }
 ],
 "metadata": {
  "kernelspec": {
   "display_name": "Python 3",
   "language": "python",
   "name": "python3"
  },
  "language_info": {
   "codemirror_mode": {
    "name": "ipython",
    "version": 3
   },
   "file_extension": ".py",
   "mimetype": "text/x-python",
   "name": "python",
   "nbconvert_exporter": "python",
   "pygments_lexer": "ipython3",
   "version": "3.9.13"
  },
  "orig_nbformat": 4,
  "vscode": {
   "interpreter": {
    "hash": "76ca05dc3ea24b2e3b98cdb7774adfbb40773424bf5109b477fd793f623715af"
   }
  }
 },
 "nbformat": 4,
 "nbformat_minor": 2
}
