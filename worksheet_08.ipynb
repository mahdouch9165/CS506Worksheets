{
 "cells": [
  {
   "attachments": {},
   "cell_type": "markdown",
   "metadata": {},
   "source": [
    "# Worksheet 08\n",
    "\n",
    "Name: Mahdi Khemakhem  \n",
    "UID: U18251472\n",
    "\n",
    "### Topics\n",
    "\n",
    "- Soft Clustering\n",
    "- Clustering Aggregation\n",
    "\n",
    "### Probability Review\n",
    "\n",
    "Read through [the following](https://medium.com/@gallettilance/overview-of-probability-3272b72c82c8)\n",
    "\n",
    "### Soft Clustering\n",
    "\n",
    "We generate 10 data points that come from a normal distribution with mean 5 and variance 1."
   ]
  },
  {
   "cell_type": "code",
   "execution_count": 1,
   "metadata": {},
   "outputs": [
    {
     "name": "stdout",
     "output_type": "stream",
     "text": [
      "[3.5060304612198774, 3.5480213091720603, 4.39734035049243, 2.7555292543363454, 2.560373482520803, 5.552404894040864, 5.052286393242134, 4.6666275109442665, 6.7774627782583945, 4.956594177450369]\n"
     ]
    }
   ],
   "source": [
    "import random\n",
    "import numpy as np\n",
    "from sklearn.cluster import KMeans\n",
    "\n",
    "mean = 5\n",
    "stdev = 1\n",
    "\n",
    "s1 = np.random.normal(mean, stdev, 10).tolist()\n",
    "print(s1)"
   ]
  },
  {
   "cell_type": "markdown",
   "metadata": {},
   "source": [
    "a) Generate 10 more data points, this time coming from a normal distribution with mean 8 and variance 1."
   ]
  },
  {
   "cell_type": "code",
   "execution_count": 2,
   "metadata": {},
   "outputs": [
    {
     "name": "stdout",
     "output_type": "stream",
     "text": [
      "[8.682334343912792, 8.856808058048363, 7.522581633032604, 7.554469527623343, 7.1825055070047465, 6.332479367198279, 7.786583467254885, 8.440734674108501, 8.950408102674082, 9.078009528496661]\n"
     ]
    }
   ],
   "source": [
    "s2 = np.random.normal(8, 1, 10).tolist()\n",
    "print(s2)"
   ]
  },
  {
   "cell_type": "markdown",
   "metadata": {},
   "source": [
    "b) Flip a fair coin 10 times. If the coin lands on H, then pick the last data point of `c1` and remove it from `c1`, if T then pick the last data point from `c2` and remove it from `c2`. Add these 10 points to a list called `data`."
   ]
  },
  {
   "cell_type": "code",
   "execution_count": 3,
   "metadata": {},
   "outputs": [
    {
     "name": "stdout",
     "output_type": "stream",
     "text": [
      "[9.078009528496661, 4.956594177450369, 6.7774627782583945, 4.6666275109442665, 8.950408102674082, 8.440734674108501, 7.786583467254885, 5.052286393242134, 6.332479367198279, 7.1825055070047465]\n"
     ]
    }
   ],
   "source": [
    "data = []\n",
    "for i in range(10):\n",
    "    # flip coin\n",
    "    coin_output = random.choice([0, 1])\n",
    "    if coin_output == 0:\n",
    "        p1 = s1.pop()\n",
    "        data.append(p1)\n",
    "    else:\n",
    "        p2 = s2.pop()\n",
    "        data.append(p2)\n",
    "print(data)"
   ]
  },
  {
   "cell_type": "markdown",
   "metadata": {},
   "source": [
    "c) This `data` is a Gaussian Mixture Distribution with 2 mixture components. Over the next few questions we will walk through the GMM algorithm to see if we can uncover the parameters we used to generate this data. First, please list all these parameters of the GMM that created `data` and the values we know they have."
   ]
  },
  {
   "cell_type": "markdown",
   "metadata": {},
   "source": [
    "Random pick = 0.5\n",
    "\n",
    "Mean and variance of the first distribution = 5, 1\n",
    "\n",
    "Mean and variance of the second distribution = 8, 1"
   ]
  },
  {
   "cell_type": "markdown",
   "metadata": {},
   "source": [
    "d) Let's assume there are two mixture components (note: we could plot the data and make the observation that there are two clusters). The EM algorithm asks us to start with a random `mean_j`, `variance_j`, `P(S_j)` for each component j. One method we could use to find sensible values for these is to apply K means with k=2 here.\n",
    "\n",
    "1. the centroids would be the estimates of the `mean_j`\n",
    "2. the intra-cluster variance could be the estimate of `variance_j`\n",
    "3. the proportion of points in each cluster could be the estimate of `P(S_j)`\n",
    "\n",
    "Go through this process and list the parameter estimates it gives. Are they close or far from the true values?"
   ]
  },
  {
   "cell_type": "code",
   "execution_count": 4,
   "metadata": {},
   "outputs": [
    {
     "name": "stdout",
     "output_type": "stream",
     "text": [
      "[4.956594177450369, 6.7774627782583945, 4.6666275109442665, 5.052286393242134, 6.332479367198279]\n",
      "[9.078009528496661, 8.950408102674082, 8.440734674108501, 7.786583467254885, 7.1825055070047465]\n",
      "P(S_1) = 0.5,  P(S_2) = 0.5\n",
      "mean_1 = 5.557090045418688,  mean_2 = 8.287648255907776\n",
      "var_1 = 0.6997767494777781,  var_2 = 0.5119526850024516\n"
     ]
    },
    {
     "name": "stderr",
     "output_type": "stream",
     "text": [
      "c:\\Users\\kmfoc\\anaconda3\\lib\\site-packages\\sklearn\\cluster\\_kmeans.py:1334: UserWarning: KMeans is known to have a memory leak on Windows with MKL, when there are less chunks than available threads. You can avoid it by setting the environment variable OMP_NUM_THREADS=1.\n",
      "  warnings.warn(\n"
     ]
    }
   ],
   "source": [
    "kmeans = KMeans(2, init='k-means++').fit(X=np.array(data).reshape(-1, 1))\n",
    "\n",
    "s1 = [x[0] for x in filter(lambda x: x[1] == 0, zip(data, kmeans.labels_))]\n",
    "print(s1)\n",
    "s2 = [x[0] for x in filter(lambda x: x[1] == 1, zip(data, kmeans.labels_))]\n",
    "print(s2)\n",
    "\n",
    "prob_s = [ len(s1) / (len(s1) + len(s2)) , len(s2) / (len(s1) + len(s2)) ]\n",
    "mean = [ sum(s1)/len(s1) , sum(s2)/len(s2) ]\n",
    "var = [ sum(map(lambda x : (x - mean[0])**2, s1)) / len(s1) , sum(map(lambda x : (x - mean[1])**2, s2)) / len(s2) ]\n",
    "\n",
    "print(\"P(S_1) = \" + str(prob_s[0]) + \",  P(S_2) = \" + str(prob_s[1]))\n",
    "print(\"mean_1 = \" + str(mean[0]) + \",  mean_2 = \" + str(mean[1]))\n",
    "print(\"var_1 = \" + str(var[0]) + \",  var_2 = \" + str(var[1]))"
   ]
  },
  {
   "cell_type": "markdown",
   "metadata": {},
   "source": [
    "They are somewhat close to the true values of (5, 1) and (8, 1), but not exactly the same. Especially the variances are off"
   ]
  },
  {
   "cell_type": "markdown",
   "metadata": {},
   "source": [
    "e) For each data point, compute `P(S_j | X_i)`. Comment on which cluster you think each point belongs to based on the estimated probabilities. How does that compare to the truth?"
   ]
  },
  {
   "cell_type": "code",
   "execution_count": 8,
   "metadata": {},
   "outputs": [
    {
     "name": "stdout",
     "output_type": "stream",
     "text": [
      "point =  9.078009528496661\n",
      "probability of observing that point if it came from cluster 0 =  0.0002337700681835683\n",
      "probability of observing that point if it came from cluster 1 =  0.2764561323415666\n",
      "point =  4.956594177450369\n",
      "probability of observing that point if it came from cluster 0 =  0.3272655429078298\n",
      "probability of observing that point if it came from cluster 1 =  2.9866792213561305e-09\n",
      "point =  6.7774627782583945\n",
      "probability of observing that point if it came from cluster 0 =  0.20443016437995826\n",
      "probability of observing that point if it came from cluster 1 =  0.012654558748555946\n",
      "point =  4.6666275109442665\n",
      "probability of observing that point if it came from cluster 0 =  0.23670499864732034\n",
      "probability of observing that point if it came from cluster 1 =  9.2430065389345e-11\n",
      "point =  8.950408102674082\n",
      "probability of observing that point if it came from cluster 0 =  0.0004077856009912885\n",
      "probability of observing that point if it came from cluster 1 =  0.3741267220033838\n",
      "point =  8.440734674108501\n",
      "probability of observing that point if it came from cluster 0 =  0.0030457049973120942\n",
      "probability of observing that point if it came from cluster 1 =  0.7192726852775682\n",
      "point =  7.786583467254885\n",
      "probability of observing that point if it came from cluster 0 =  0.024491190978436064\n",
      "probability of observing that point if it came from cluster 1 =  0.45340536484143784\n",
      "point =  5.052286393242134\n",
      "probability of observing that point if it came from cluster 0 =  0.35553742957590545\n",
      "probability of observing that point if it came from cluster 1 =  8.8292342931402e-09\n",
      "point =  6.332479367198279\n",
      "probability of observing that point if it came from cluster 0 =  0.3417985944873594\n",
      "probability of observing that point if it came from cluster 1 =  0.0008647645328444406\n",
      "point =  7.1825055070047465\n",
      "probability of observing that point if it came from cluster 0 =  0.10230785061623042\n",
      "probability of observing that point if it came from cluster 1 =  0.08083408182590988\n",
      "9.078009528496661\n",
      "Probability of coming from S_1 = 0.000941962901893687\n",
      "Probability of coming from S_2 = 0.9990580370981064\n",
      "\n",
      "4.956594177450369\n",
      "Probability of coming from S_1 = 0.9999999918152034\n",
      "Probability of coming from S_2 = 8.184796572472759e-09\n",
      "\n",
      "6.7774627782583945\n",
      "Probability of coming from S_1 = 0.9474035272344419\n",
      "Probability of coming from S_2 = 0.05259647276555815\n",
      "\n",
      "4.6666275109442665\n",
      "Probability of coming from S_1 = 0.9999999996497926\n",
      "Probability of coming from S_2 = 3.50207486110651e-10\n",
      "\n",
      "8.950408102674082\n",
      "Probability of coming from S_1 = 0.0012138529369498333\n",
      "Probability of coming from S_2 = 0.9987861470630502\n",
      "\n",
      "8.440734674108501\n",
      "Probability of coming from S_1 = 0.0046992548943176424\n",
      "Probability of coming from S_2 = 0.9953007451056823\n",
      "\n",
      "7.786583467254885\n",
      "Probability of coming from S_1 = 0.056807292402507266\n",
      "Probability of coming from S_2 = 0.9431927075974927\n",
      "\n",
      "5.052286393242134\n",
      "Probability of coming from S_1 = 0.9999999777280985\n",
      "Probability of coming from S_2 = 2.227190154391565e-08\n",
      "\n",
      "6.332479367198279\n",
      "Probability of coming from S_1 = 0.9977360706764308\n",
      "Probability of coming from S_2 = 0.0022639293235692526\n",
      "\n",
      "7.1825055070047465\n",
      "Probability of coming from S_1 = 0.5852722606122243\n",
      "Probability of coming from S_2 = 0.41472773938777563\n",
      "\n"
     ]
    }
   ],
   "source": [
    "from scipy.stats import norm\n",
    "\n",
    "prob_s0_x = [] # P(S_0 | X_i)\n",
    "prob_s1_x = [] # P(S_1 | X_i)\n",
    "prob_x = [] # P(X_i)\n",
    "\n",
    "k = 2\n",
    "\n",
    "for p in data:\n",
    "    print(\"point = \", p)\n",
    "    pdf_i = []\n",
    "\n",
    "    for j in range(k):\n",
    "        # P(X_i | S_j)\n",
    "        pdf_i.append(norm.pdf(p, mean[j], var[j]))\n",
    "        print(\"probability of observing that point if it came from cluster \" + str(j) + \" = \", pdf_i[j])\n",
    "        # P(S_j) already computed\n",
    "        prob_s[j]\n",
    "\n",
    "    # P(X_i) = P(S_0)P(X_i | S_0) + P(S_1)P(X_i | S_1)\n",
    "    prob_x = prob_s[0] * pdf_i[0] + prob_s[1] * pdf_i[1]\n",
    "\n",
    "    # P(S_j | X_i) = P(X_i | S_j)P(S_j) / P(X_i)\n",
    "    prob_s0_x.append(pdf_i[0] * prob_s[0] / prob_x)\n",
    "    prob_s1_x.append(pdf_i[1] * prob_s[1] / prob_x)\n",
    "\n",
    "probs = zip(data, prob_s0_x, prob_s1_x)\n",
    "for p in probs:\n",
    "    print(p[0])\n",
    "    print(\"Probability of coming from S_1 = \" + str(p[1]))\n",
    "    print(\"Probability of coming from S_2 = \" + str(p[2]))\n",
    "    print()\n"
   ]
  },
  {
   "cell_type": "markdown",
   "metadata": {},
   "source": [
    "f) Having computed `P(S_j | X_i)`, update the estimates of `mean_j`, `var_j`, and `P(S_j)`. How different are these values from the original ones you got from K means? briefly comment."
   ]
  },
  {
   "cell_type": "code",
   "execution_count": 9,
   "metadata": {},
   "outputs": [
    {
     "name": "stdout",
     "output_type": "stream",
     "text": [
      "P(S_1) = 0.5271899397481883,  P(S_2) = 0.47281006025181177\n",
      "mean_1 = 5.741750789183606,  mean_2 = 8.421365500417\n",
      "var_1 = 0.9155775529968989,  var_2 = 0.42653524002310134\n"
     ]
    }
   ],
   "source": [
    "prob_c = [sum(prob_s0_x)/ len(prob_s0_x), sum(prob_s1_x)/ len(prob_s1_x)]\n",
    "mean = [sum([x[0] * x[1] for x in zip(prob_s0_x, data)]) / sum(prob_s0_x), sum([x[0] * x[1] for x in zip(prob_s1_x, data)]) / sum(prob_s1_x)]\n",
    "var = [sum([(x[0] - mean[0])**2 * x[1] for x in zip(data, prob_s0_x)]) / sum(prob_s0_x), sum([(x[0] - mean[1])**2 * x[1] for x in zip(data, prob_s1_x)]) / sum(prob_s1_x)]\n",
    "\n",
    "print(\"P(S_1) = \" + str(prob_s[0]) + \",  P(S_2) = \" + str(prob_s[1]))\n",
    "print(\"mean_1 = \" + str(mean[0]) + \",  mean_2 = \" + str(mean[1]))\n",
    "print(\"var_1 = \" + str(var[0]) + \",  var_2 = \" + str(var[1]))"
   ]
  },
  {
   "cell_type": "markdown",
   "metadata": {},
   "source": [
    "Variance of 1 is better but of 2 is worse, both means are worse, but the probabilities are better"
   ]
  },
  {
   "cell_type": "markdown",
   "metadata": {},
   "source": [
    "g) Update `P(S_j | X_i)`. Comment on any differences or lack thereof you observe"
   ]
  },
  {
   "cell_type": "code",
   "execution_count": 10,
   "metadata": {},
   "outputs": [
    {
     "name": "stdout",
     "output_type": "stream",
     "text": [
      "Updated Values after 1 iteration:\n",
      "P(S_1) = 0.5628422376186586 , P(S_2) = 0.43715776238134135\n",
      "mean_1 = 5.763687804501074 , mean_2 = 8.414175673801259\n",
      "var_1 = 0.9668244415347331 , var_2 = 0.4509898872265725\n"
     ]
    }
   ],
   "source": [
    "# Update P(S_j|X_i)\n",
    "prob_s0_x, prob_s1_x = [], []\n",
    "for p in data:\n",
    "    pdf_i = [norm.pdf(p, mean[j], np.sqrt(var[j])) for j in range(k)]\n",
    "    prob_x_i = sum([prob_s[j] * pdf_i[j] for j in range(k)])\n",
    "\n",
    "    prob_s0_x.append(pdf_i[0] * prob_s[0] / prob_x_i)\n",
    "    prob_s1_x.append(pdf_i[1] * prob_s[1] / prob_x_i)\n",
    "\n",
    "prob_s = [sum(prob_s0_x) / len(prob_s0_x), sum(prob_s1_x) / len(prob_s1_x)]\n",
    "mean = [sum([x[0] * x[1] for x in zip(prob_s0_x, data)]) / sum(prob_s0_x),\n",
    "        sum([x[0] * x[1] for x in zip(prob_s1_x, data)]) / sum(prob_s1_x)]\n",
    "var = [sum([(x[0] - mean[0]) ** 2 * x[1] for x in zip(data, prob_s0_x)]) / sum(prob_s0_x),\n",
    "       sum([(x[0] - mean[1]) ** 2 * x[1] for x in zip(data, prob_s1_x)]) / sum(prob_s1_x)]\n",
    "\n",
    "print(\"Updated Values after 1 iteration:\")\n",
    "print(\"P(S_1) =\", prob_s[0], \", P(S_2) =\", prob_s[1])\n",
    "print(\"mean_1 =\", mean[0], \", mean_2 =\", mean[1])\n",
    "print(\"var_1 =\", var[0], \", var_2 =\", var[1])"
   ]
  },
  {
   "cell_type": "markdown",
   "metadata": {},
   "source": [
    "Mean2 is better than  the last iteration, but Mean1 is worse than the last iteration,both variances are slightly better. P(S1) and P(S2) are worse than the last iteration."
   ]
  },
  {
   "cell_type": "markdown",
   "metadata": {},
   "source": [
    "h) Use `P(S_j | X_i)` to create a hard assignment - label each point as belonging to a specific cluster (0 or 1)"
   ]
  },
  {
   "cell_type": "code",
   "execution_count": 11,
   "metadata": {},
   "outputs": [
    {
     "name": "stdout",
     "output_type": "stream",
     "text": [
      "Data point 9.08 is assigned to cluster 1\n",
      "Data point 4.96 is assigned to cluster 0\n",
      "Data point 6.78 is assigned to cluster 0\n",
      "Data point 4.67 is assigned to cluster 0\n",
      "Data point 8.95 is assigned to cluster 1\n",
      "Data point 8.44 is assigned to cluster 1\n",
      "Data point 7.79 is assigned to cluster 1\n",
      "Data point 5.05 is assigned to cluster 0\n",
      "Data point 6.33 is assigned to cluster 0\n",
      "Data point 7.18 is assigned to cluster 0\n"
     ]
    }
   ],
   "source": [
    "labels = [0 if prob_s0 > prob_s1 else 1 for prob_s0, prob_s1 in zip(prob_s0_x, prob_s1_x)]\n",
    "\n",
    "for i, label in enumerate(labels):\n",
    "    print(f\"Data point {data[i]:.2f} is assigned to cluster {label}\")\n"
   ]
  }
 ],
 "metadata": {
  "kernelspec": {
   "display_name": "Python 3",
   "language": "python",
   "name": "python3"
  },
  "language_info": {
   "codemirror_mode": {
    "name": "ipython",
    "version": 3
   },
   "file_extension": ".py",
   "mimetype": "text/x-python",
   "name": "python",
   "nbconvert_exporter": "python",
   "pygments_lexer": "ipython3",
   "version": "3.9.13"
  },
  "orig_nbformat": 4,
  "vscode": {
   "interpreter": {
    "hash": "e7370f93d1d0cde622a1f8e1c04877d8463912d04d973331ad4851f04de6915a"
   }
  }
 },
 "nbformat": 4,
 "nbformat_minor": 2
}
