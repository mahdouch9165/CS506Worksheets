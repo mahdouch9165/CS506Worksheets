{
 "cells": [
  {
   "attachments": {},
   "cell_type": "markdown",
   "metadata": {},
   "source": [
    "# Worksheet 00\n",
    "\n",
    "Name: Mahdi Khemakhem\n",
    "UID: U18251472\n",
    "\n",
    "### Topics\n",
    "\n",
    "- course overview\n",
    "- python review\n",
    "\n",
    "### Course Overview\n",
    "\n",
    "a) Why are you taking this course?"
   ]
  },
  {
   "cell_type": "markdown",
   "metadata": {},
   "source": [
    "I have a great interest in automation, and only so much can be done with just conditionals. Modeling answers using data is the next step to elevate my pipelines."
   ]
  },
  {
   "cell_type": "markdown",
   "metadata": {},
   "source": [
    "b) What are your academic and professional goals for this semester?"
   ]
  },
  {
   "cell_type": "markdown",
   "metadata": {},
   "source": [
    "I am a non-traditional CS student, coming from a pre-medical background, and my main goal is to ensure my transition into a CS master's course structure is smooth. My career goals would be to hopefully find an internship related to ML/AI to supplement the self-learning journey I have been undertaking."
   ]
  },
  {
   "cell_type": "markdown",
   "metadata": {},
   "source": [
    "c) Do you have previous Data Science experience? If so, please expand."
   ]
  },
  {
   "cell_type": "markdown",
   "metadata": {},
   "source": [
    "I was a research assistant for two years at an Alzheimer's Disease Start-up during which I was able to apply my coding skills to my job. I was able to create several useful reports for my manager using webhooks, Azure Functions and PowerBI. I implemented a classifier to aid my manager in determining the nature of the tasks present in our project management software, and using Azure Functions and webhooks, I was able to create a live suggestion tooltip for employees to help them determine the category of the task they were undertaking. Most recently I have been learning about LLMs and have been finetuning Huggingface models for the past few months."
   ]
  },
  {
   "cell_type": "markdown",
   "metadata": {},
   "source": [
    "d) Data Science is a combination of programming, math (linear algebra and calculus), and statistics. Which of these three do you struggle with the most (you may pick more than one)?"
   ]
  },
  {
   "cell_type": "markdown",
   "metadata": {},
   "source": [
    "I would say statistics, but it is mainly because I have forgotten my course work, and I have not yet reached it on my self-learning curriculum. My linear algebra understanding is strong, I might not be the best at hands-on problem solving, I have for the most part done linear algebra using numpy. I have a strong understanding of calculus."
   ]
  },
  {
   "attachments": {},
   "cell_type": "markdown",
   "metadata": {},
   "source": [
    "The rest of this worksheet is optional. If you have prior Python experience, you are welcome to skip it HOWEVER I strongly encourage you to try out the questions marked as `challenging`.\n",
    "\n",
    "### Python review (Optional)\n",
    "\n",
    "#### Lambda functions\n",
    "\n",
    "Python supports the creation of anonymous functions (i.e. functions that are not bound to a name) at runtime, using a construct called `lambda`. Instead of writing a named function as such:"
   ]
  },
  {
   "cell_type": "code",
   "execution_count": 1,
   "metadata": {},
   "outputs": [
    {
     "data": {
      "text/plain": [
       "64"
      ]
     },
     "execution_count": 1,
     "metadata": {},
     "output_type": "execute_result"
    }
   ],
   "source": [
    "def f(x):\n",
    "    return x**2\n",
    "f(8)"
   ]
  },
  {
   "cell_type": "markdown",
   "metadata": {},
   "source": [
    "One can write an anonymous function as such:"
   ]
  },
  {
   "cell_type": "code",
   "execution_count": 2,
   "metadata": {},
   "outputs": [
    {
     "data": {
      "text/plain": [
       "64"
      ]
     },
     "execution_count": 2,
     "metadata": {},
     "output_type": "execute_result"
    }
   ],
   "source": [
    "(lambda x: x**2)(8)"
   ]
  },
  {
   "cell_type": "markdown",
   "metadata": {},
   "source": [
    "A `lambda` function can take multiple arguments:"
   ]
  },
  {
   "cell_type": "code",
   "execution_count": 3,
   "metadata": {},
   "outputs": [
    {
     "data": {
      "text/plain": [
       "5"
      ]
     },
     "execution_count": 3,
     "metadata": {},
     "output_type": "execute_result"
    }
   ],
   "source": [
    "(lambda x, y : x + y)(2, 3)"
   ]
  },
  {
   "cell_type": "markdown",
   "metadata": {},
   "source": [
    "The arguments can be `lambda` functions themselves:"
   ]
  },
  {
   "cell_type": "code",
   "execution_count": 4,
   "metadata": {},
   "outputs": [
    {
     "data": {
      "text/plain": [
       "5"
      ]
     },
     "execution_count": 4,
     "metadata": {},
     "output_type": "execute_result"
    }
   ],
   "source": [
    "(lambda x : x(3))(lambda y: 2 + y)"
   ]
  },
  {
   "cell_type": "markdown",
   "metadata": {},
   "source": [
    "a) write a `lambda` function that takes three arguments `x, y, z` and returns `True` only if `x < y < z`."
   ]
  },
  {
   "cell_type": "code",
   "execution_count": null,
   "metadata": {},
   "outputs": [],
   "source": [
    "(lambda x, y, z: x<y<z)"
   ]
  },
  {
   "cell_type": "markdown",
   "metadata": {},
   "source": [
    "b) write a `lambda` function that takes a parameter `n` and returns a lambda function that will multiply any input it receives by `n`."
   ]
  },
  {
   "cell_type": "code",
   "execution_count": null,
   "metadata": {},
   "outputs": [],
   "source": [
    "(lambda n: lambda x: x*n)"
   ]
  },
  {
   "cell_type": "markdown",
   "metadata": {},
   "source": [
    "#### Map\n",
    "\n",
    "`map(func, s)`\n",
    "\n",
    "`func` is a function and `s` is a sequence (e.g., a list). \n",
    "\n",
    "`map()` returns an object that will apply function `func` to each of the elements of `s`.\n",
    "\n",
    "For example if you want to multiply every element in a list by 2 you can write the following:"
   ]
  },
  {
   "cell_type": "code",
   "execution_count": 5,
   "metadata": {},
   "outputs": [
    {
     "name": "stdout",
     "output_type": "stream",
     "text": [
      "[2, 4, 6, 8, 10]\n"
     ]
    }
   ],
   "source": [
    "mylist = [1, 2, 3, 4, 5]\n",
    "mylist_mul_by_2 = map(lambda x : 2 * x, mylist)\n",
    "print(list(mylist_mul_by_2))"
   ]
  },
  {
   "cell_type": "markdown",
   "metadata": {},
   "source": [
    "`map` can also be applied to more than one list as long as they are the same size:"
   ]
  },
  {
   "cell_type": "code",
   "execution_count": 9,
   "metadata": {},
   "outputs": [
    {
     "data": {
      "text/plain": [
       "[6, 6, 6, 6, 6]"
      ]
     },
     "execution_count": 9,
     "metadata": {},
     "output_type": "execute_result"
    }
   ],
   "source": [
    "a = [1, 2, 3, 4, 5]\n",
    "b = [5, 4, 3, 2, 1]\n",
    "\n",
    "a_plus_b = map(lambda x, y: x + y, a, b)\n",
    "list(a_plus_b)"
   ]
  },
  {
   "cell_type": "markdown",
   "metadata": {},
   "source": [
    "c) write a map that checks if elements are greater than zero"
   ]
  },
  {
   "cell_type": "code",
   "execution_count": null,
   "metadata": {},
   "outputs": [],
   "source": [
    "c = [-2, -1, 0, 1, 2]\n",
    "gt_zero = map(lambda x: x > 0, c)\n",
    "list(gt_zero)"
   ]
  },
  {
   "cell_type": "markdown",
   "metadata": {},
   "source": [
    "d) write a map that checks if elements are multiples of 3"
   ]
  },
  {
   "cell_type": "code",
   "execution_count": null,
   "metadata": {},
   "outputs": [],
   "source": [
    "d = [1, 3, 6, 11, 2]\n",
    "mul_of3 = map(lambda x: not x%3, d)\n",
    "list(mul_of3)"
   ]
  },
  {
   "cell_type": "markdown",
   "metadata": {},
   "source": [
    "#### Filter\n",
    "\n",
    "`filter(function, list)` returns a new list containing all the elements of `list` for which `function()` evaluates to `True.`\n",
    "\n",
    "e) write a filter that will only return even numbers in the list"
   ]
  },
  {
   "cell_type": "code",
   "execution_count": null,
   "metadata": {},
   "outputs": [],
   "source": [
    "e = [1, 2, 3, 4, 5, 6, 7, 8, 9, 10]\n",
    "evens = filter(lambda x: not x%2, e)\n",
    "list(evens)"
   ]
  },
  {
   "cell_type": "markdown",
   "metadata": {},
   "source": [
    "#### Reduce\n",
    "\n",
    "`reduce(function, sequence[, initial])` returns the result of sequencially applying the function to the sequence (starting at an initial state). You can think of reduce as consuming the sequence via the function.\n",
    "\n",
    "For example, let's say we want to add all elements in a list. We could write the following:"
   ]
  },
  {
   "cell_type": "code",
   "execution_count": 13,
   "metadata": {},
   "outputs": [
    {
     "name": "stdout",
     "output_type": "stream",
     "text": [
      "15\n"
     ]
    }
   ],
   "source": [
    "from functools import reduce\n",
    "\n",
    "nums = [1, 2, 3, 4, 5]\n",
    "sum_nums = reduce(lambda acc, x : acc + x, nums, 0)\n",
    "print(sum_nums)"
   ]
  },
  {
   "attachments": {},
   "cell_type": "markdown",
   "metadata": {},
   "source": [
    "Let's walk through the steps of `reduce` above:\n",
    "\n",
    "1) the value of `acc` is set to 0 (our initial value)\n",
    "2) Apply the lambda function on `acc` and the first element of the list: `acc` = `acc` + 1 = 1\n",
    "3) `acc` = `acc` + 2 = 3\n",
    "4) `acc` = `acc` + 3 = 6\n",
    "5) `acc` = `acc` + 4 = 10\n",
    "6) `acc` = `acc` + 5 = 15\n",
    "7) return `acc`\n",
    "\n",
    "`acc` is short for `accumulator`.\n",
    "\n",
    "f) `*challenging` Using `reduce` write a function that returns the factorial of a number. (recall: N! (N factorial) = N * (N - 1) * (N - 2) * ... * 2 * 1)"
   ]
  },
  {
   "cell_type": "code",
   "execution_count": null,
   "metadata": {},
   "outputs": [],
   "source": [
    "factorial = lambda x : reduce(lambda acc, y: acc * y, range(1, x+1), 1)\n",
    "factorial(10)"
   ]
  },
  {
   "attachments": {},
   "cell_type": "markdown",
   "metadata": {},
   "source": [
    "g) `*challenging` Using `reduce` and `filter`, write a function that returns all the primes below a certain number"
   ]
  },
  {
   "cell_type": "code",
   "execution_count": null,
   "metadata": {},
   "outputs": [],
   "source": [
    "def is_prime(n):\n",
    "    if n == 2:\n",
    "        return True\n",
    "    if n % 2 == 0:\n",
    "        return False\n",
    "    for i in range(3, int(n ** 0.5) + 1, 2):\n",
    "        if n % i == 0:\n",
    "            return False\n",
    "    return True\n",
    "\n",
    "sieve = lambda x : reduce(lambda acc, y: acc + [y], filter(is_prime, range(2, x)), [])\n",
    "print(sieve(100))"
   ]
  },
  {
   "attachments": {},
   "cell_type": "markdown",
   "metadata": {},
   "source": [
    "### What is going on?\n",
    "\n",
    "This whole section is `*challenging`\n",
    "\n",
    "For each of the following code snippets, explain why the output is what it is:"
   ]
  },
  {
   "cell_type": "code",
   "execution_count": 1,
   "metadata": {},
   "outputs": [
    {
     "name": "stdout",
     "output_type": "stream",
     "text": [
      "OVERDRAWN\n"
     ]
    }
   ],
   "source": [
    "class Bank:\n",
    "  def __init__(self, balance):\n",
    "    self.balance = balance\n",
    "  \n",
    "  def is_overdrawn(self):\n",
    "    return self.balance < 0\n",
    "\n",
    "myBank = Bank(100)\n",
    "if myBank.is_overdrawn :\n",
    "  print(\"OVERDRAWN\")\n",
    "else:\n",
    "  print(\"ALL GOOD\")"
   ]
  },
  {
   "cell_type": "markdown",
   "metadata": {},
   "source": [
    "The bool of the reference to the method myBank.is_overdrawn itself is true, and since we did not call the method by adding the parenthesis, the method was not executed, and the bool of the reference to the method is true, resulting in OVERDRAWN being printed."
   ]
  },
  {
   "cell_type": "code",
   "execution_count": 2,
   "metadata": {},
   "outputs": [
    {
     "name": "stdout",
     "output_type": "stream",
     "text": [
      "0\n",
      "1\n",
      "2\n",
      "3\n"
     ]
    }
   ],
   "source": [
    "for i in range(4):\n",
    "    print(i)\n",
    "    i = 10"
   ]
  },
  {
   "cell_type": "markdown",
   "metadata": {},
   "source": [
    "The i is iterating through [0, 1, 2, 3] as that is the range of 4. Everytime, we go back to the beginning of the loop the value of i is set to the next element in the range iterator, and the effect of i = 10 is nullified."
   ]
  },
  {
   "cell_type": "code",
   "execution_count": 4,
   "metadata": {},
   "outputs": [
    {
     "name": "stdout",
     "output_type": "stream",
     "text": [
      "[['', '', ''], ['', '', ''], ['', '', '']]\n",
      "[['X', '', ''], ['X', '', ''], ['X', '', '']]\n"
     ]
    }
   ],
   "source": [
    "row = [\"\"] * 3 # row i['', '', '']\n",
    "board = [row] * 3\n",
    "print(board) # [['', '', ''], ['', '', ''], ['', '', '']]\n",
    "board[0][0] = \"X\"\n",
    "print(board)"
   ]
  },
  {
   "cell_type": "markdown",
   "metadata": {},
   "source": [
    "The board list contains a reference to the same row list object 3 times, hence when one of the elements is changed, the change is reflected in all the other lists in the board. "
   ]
  },
  {
   "cell_type": "code",
   "execution_count": 5,
   "metadata": {},
   "outputs": [
    {
     "name": "stdout",
     "output_type": "stream",
     "text": [
      "[0, 1, 2]\n",
      "[2, 2, 2]\n"
     ]
    }
   ],
   "source": [
    "funcs = []\n",
    "results = []\n",
    "for x in range(3):\n",
    "    def some_func():\n",
    "        return x\n",
    "    funcs.append(some_func)\n",
    "    results.append(some_func())  # note the function call here\n",
    "\n",
    "funcs_results = [func() for func in funcs]\n",
    "print(results) # [0,1,2]\n",
    "print(funcs_results)"
   ]
  },
  {
   "cell_type": "markdown",
   "metadata": {},
   "source": [
    "When the functions are exectued inside the loop to append to the results list, x is being iterated through, and the calls capture that increase from 0 to 2. For funcs_results, the functions are being called outside the loop once x has settled on its final value of 2. Since the functions hold a reference to x, and not its value at the time of the creation of the function, we get [2, 2, 2]."
   ]
  },
  {
   "cell_type": "code",
   "execution_count": 15,
   "metadata": {},
   "outputs": [
    {
     "name": "stdout",
     "output_type": "stream",
     "text": [
      "0\n"
     ]
    }
   ],
   "source": [
    "f = open(\"./data.txt\", \"w+\")\n",
    "f.write(\"1,2,3,4,5\")\n",
    "f.close()\n",
    "\n",
    "nums = []\n",
    "with open(\"./data.txt\", \"w+\") as f:\n",
    "  lines = f.readlines()\n",
    "  for line in lines:\n",
    "    nums += [int(x) for x in line.split(\",\")]\n",
    "\n",
    "print(sum(nums))"
   ]
  },
  {
   "cell_type": "markdown",
   "metadata": {},
   "source": [
    "Opening a file in w or w+ mode after it has been closed will delete its contents until you write something new in it, when the file was opened again there were no contents anymore hence the sum 0."
   ]
  }
 ],
 "metadata": {
  "interpreter": {
   "hash": "e7370f93d1d0cde622a1f8e1c04877d8463912d04d973331ad4851f04de6915a"
  },
  "kernelspec": {
   "display_name": "Python 3.9.9 64-bit",
   "language": "python",
   "name": "python3"
  },
  "language_info": {
   "codemirror_mode": {
    "name": "ipython",
    "version": 3
   },
   "file_extension": ".py",
   "mimetype": "text/x-python",
   "name": "python",
   "nbconvert_exporter": "python",
   "pygments_lexer": "ipython3",
   "version": "3.11.1 (main, Dec  7 2022, 00:00:00) [GCC 12.2.1 20221121 (Red Hat 12.2.1-4)]"
  },
  "orig_nbformat": 4
 },
 "nbformat": 4,
 "nbformat_minor": 2
}
